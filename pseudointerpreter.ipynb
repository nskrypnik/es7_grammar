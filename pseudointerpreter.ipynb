{
 "cells": [
  {
   "cell_type": "code",
   "execution_count": 100,
   "metadata": {
    "collapsed": false
   },
   "outputs": [
    {
     "name": "stdout",
     "output_type": "stream",
     "text": [
      "The autoreload extension is already loaded. To reload it, use:\n",
      "  %reload_ext autoreload\n"
     ]
    }
   ],
   "source": [
    "%load_ext autoreload\n",
    "%autoreload 2\n",
    "\n",
    "from es7_grammar import *"
   ]
  },
  {
   "cell_type": "code",
   "execution_count": 101,
   "metadata": {
    "collapsed": false
   },
   "outputs": [],
   "source": [
    "i = importStatement.parseString(\"import Ember from 'ember'\", True)"
   ]
  },
  {
   "cell_type": "code",
   "execution_count": 102,
   "metadata": {
    "collapsed": false
   },
   "outputs": [
    {
     "data": {
      "text/plain": [
       "(['import', 'Ember', ',', '{', 'inject', ':', '{', 'service', '}', '}', 'from', \"'ember'\"], {})"
      ]
     },
     "execution_count": 102,
     "metadata": {},
     "output_type": "execute_result"
    }
   ],
   "source": [
    "importStatement.parseString(\"import Ember, {inject: {service}} from 'ember'\")"
   ]
  },
  {
   "cell_type": "code",
   "execution_count": 103,
   "metadata": {
    "collapsed": false
   },
   "outputs": [
    {
     "data": {
      "text/plain": [
       "([(['import', 'Ember', 'from', \"'ember'\"], {})], {})"
      ]
     },
     "execution_count": 103,
     "metadata": {},
     "output_type": "execute_result"
    }
   ],
   "source": [
    "importStatement.searchString(\"import Ember from 'ember'\")"
   ]
  },
  {
   "cell_type": "code",
   "execution_count": 104,
   "metadata": {
    "collapsed": false
   },
   "outputs": [
    {
     "name": "stdout",
     "output_type": "stream",
     "text": [
      "['90', '.', '1']\n",
      "['90']\n",
      "['.', '10']\n",
      "['.', '10', 'e', '+', '3']\n",
      "['10', 'e', '-', '3']\n",
      "['1', 'e', '3']\n"
     ]
    }
   ],
   "source": [
    "print(DecimalLiteral.parseString('90.1'))\n",
    "print(DecimalLiteral.parseString('90'))\n",
    "print(DecimalLiteral.parseString('.10'))\n",
    "print(DecimalLiteral.parseString('.10e+3'))\n",
    "print(DecimalLiteral.parseString('10e-3'))\n",
    "print(DecimalLiteral.parseString('1e3'))"
   ]
  },
  {
   "cell_type": "code",
   "execution_count": 107,
   "metadata": {
    "collapsed": false
   },
   "outputs": [
    {
     "name": "stdout",
     "output_type": "stream",
     "text": [
      "['null']\n",
      "['\"hello world\"']\n",
      "['10']\n",
      "['.', '8', 'e', '5']\n",
      "['false']\n"
     ]
    }
   ],
   "source": [
    "print(jsLiteral.parseString('null'))\n",
    "print(jsLiteral.parseString('\"hello world\"'))\n",
    "print(jsLiteral.parseString('10'))\n",
    "print(jsLiteral.parseString('.8e5'))\n",
    "print(jsLiteral.parseString('false'))"
   ]
  },
  {
   "cell_type": "code",
   "execution_count": null,
   "metadata": {
    "collapsed": true
   },
   "outputs": [],
   "source": []
  }
 ],
 "metadata": {
  "kernelspec": {
   "display_name": "Python 3",
   "language": "python",
   "name": "python3"
  },
  "language_info": {
   "codemirror_mode": {
    "name": "ipython",
    "version": 3
   },
   "file_extension": ".py",
   "mimetype": "text/x-python",
   "name": "python",
   "nbconvert_exporter": "python",
   "pygments_lexer": "ipython3",
   "version": "3.6.0"
  }
 },
 "nbformat": 4,
 "nbformat_minor": 2
}
