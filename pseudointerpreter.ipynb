{
 "cells": [
  {
   "cell_type": "code",
   "execution_count": 23,
   "metadata": {
    "collapsed": false,
    "scrolled": true
   },
   "outputs": [
    {
     "name": "stdout",
     "output_type": "stream",
     "text": [
      "The autoreload extension is already loaded. To reload it, use:\n",
      "  %reload_ext autoreload\n",
      "['a']\n",
      "['a', '=', '10']\n",
      "['a', ':', 'b']\n",
      "['a', ':', 'b', '=', '10']\n",
      "forwardingDestructEl ['a', ':', '{', 'b', '}']\n",
      "destructObject ['{', 'a', '}']\n",
      "destructObject ['{', 'a', '=', '10', '}']\n",
      "destructObject ['{', 'a', ':', 'b', '}']\n",
      "destructObject ['{', 'a', ':', '{', 'b', '}', '}']\n",
      "['{', 'a', ',', 'b', ',', 'c', '}']\n",
      "['{', 'a', '=', '10', ',', 'b', ',', 'c', '}']\n",
      "['[', 'a', ',', '[', 'b', ']', ',', 'c', ']']\n",
      "['{', 'a', ':', 'e', '=', '42', ',', 'b', ',', 'c', '}']\n"
     ]
    }
   ],
   "source": [
    "%load_ext autoreload\n",
    "%autoreload 2\n",
    "\n",
    "from es7_grammar import *\n",
    "\n",
    "# print(complexDestructAssignmentEl.parseString('a: {d, e}'))\n",
    "\n",
    "print(destructAssignmentKeyWithDefault.parseString('a'))\n",
    "print(destructAssignmentKeyWithDefault.parseString('a = 10'))\n",
    "print(forwardingDestructEl.parseString('a: b'))\n",
    "print(forwardingDestructEl.parseString('a: b = 10'))\n",
    "\n",
    "print('forwardingDestructEl', forwardingDestructEl.parseString('a: {b}'))\n",
    "\n",
    "\n",
    "print('destructObject', destructObject.parseString('{a}'))\n",
    "print('destructObject', destructObject.parseString('{a = 10}'))\n",
    "print('destructObject', destructObject.parseString('{a: b}'))\n",
    "print('destructObject', destructObject.parseString('{a: {b}}'))\n",
    "print(destructAssignment.parseString('{a, b, c}'))\n",
    "print(destructAssignment.parseString('{a = 10, b, c}'))\n",
    "print(destructAssignment.parseString('[a, [b], c]'))\n",
    "print(destructAssignment.parseString('{a: e = 42, b, c}'))\n"
   ]
  },
  {
   "cell_type": "code",
   "execution_count": 24,
   "metadata": {
    "collapsed": false
   },
   "outputs": [],
   "source": [
    "i = importStatement.parseString(\"import Ember from 'ember'\", True)"
   ]
  },
  {
   "cell_type": "code",
   "execution_count": 25,
   "metadata": {
    "collapsed": false
   },
   "outputs": [
    {
     "data": {
      "text/plain": [
       "(['import', 'Ember', ',', '{', 'inject', ':', '{', 'service', '}', '}', 'from', \"'ember'\"], {})"
      ]
     },
     "execution_count": 25,
     "metadata": {},
     "output_type": "execute_result"
    }
   ],
   "source": [
    "importStatement.parseString(\"import Ember, {inject: {service}} from 'ember'\")"
   ]
  },
  {
   "cell_type": "code",
   "execution_count": 26,
   "metadata": {
    "collapsed": false
   },
   "outputs": [
    {
     "data": {
      "text/plain": [
       "([(['import', 'Ember', 'from', \"'ember'\"], {})], {})"
      ]
     },
     "execution_count": 26,
     "metadata": {},
     "output_type": "execute_result"
    }
   ],
   "source": [
    "importStatement.searchString(\"import Ember from 'ember'\")"
   ]
  },
  {
   "cell_type": "code",
   "execution_count": 27,
   "metadata": {
    "collapsed": false
   },
   "outputs": [
    {
     "name": "stdout",
     "output_type": "stream",
     "text": [
      "['90', '.', '1']\n",
      "['90']\n",
      "['.', '10']\n",
      "['.', '10', 'e', '+', '3']\n",
      "['10', 'e', '-', '3']\n",
      "['1', 'e', '3']\n",
      "['0', 'x', 'ae']\n",
      "['0', 'x', '102']\n"
     ]
    }
   ],
   "source": [
    "print(NumericLiteral.parseString('90.1'))\n",
    "print(NumericLiteral.parseString('90'))\n",
    "print(NumericLiteral.parseString('.10'))\n",
    "print(NumericLiteral.parseString('.10e+3'))\n",
    "print(NumericLiteral.parseString('10e-3'))\n",
    "print(NumericLiteral.parseString('1e3'))\n",
    "print(NumericLiteral.parseString('0xae'))\n",
    "print(NumericLiteral.parseString('0x102'))"
   ]
  },
  {
   "cell_type": "code",
   "execution_count": 28,
   "metadata": {
    "collapsed": false
   },
   "outputs": [
    {
     "name": "stdout",
     "output_type": "stream",
     "text": [
      "['null']\n",
      "['\"hello world\"']\n",
      "['10']\n",
      "['.', '8', 'e', '5']\n",
      "['false']\n"
     ]
    }
   ],
   "source": [
    "print(jsLiteral.parseString('null'))\n",
    "print(jsLiteral.parseString('\"hello world\"'))\n",
    "print(jsLiteral.parseString('10'))\n",
    "print(jsLiteral.parseString('.8e5'))\n",
    "print(jsLiteral.parseString('false'))"
   ]
  },
  {
   "cell_type": "code",
   "execution_count": 29,
   "metadata": {
    "collapsed": false
   },
   "outputs": [
    {
     "data": {
      "text/plain": [
       "(['(', 'a', ',', 'b', ',', 'z', ')', '=>', '{', '}'], {})"
      ]
     },
     "execution_count": 29,
     "metadata": {},
     "output_type": "execute_result"
    }
   ],
   "source": [
    "functionExpression.parseString('(a, b, z) => {}')"
   ]
  },
  {
   "cell_type": "code",
   "execution_count": 30,
   "metadata": {
    "collapsed": false
   },
   "outputs": [
    {
     "name": "stdout",
     "output_type": "stream",
     "text": [
      "['new', 'HelloClass', '(', '1', ',', '2', ')']\n",
      "['HelloClass']\n",
      "['HelloClass']\n",
      "['HelloClass', '(', '1', ',', '2', ')']\n",
      "['HelloClass', '(', '1', ',', '2', ')']\n",
      "['HelloClass', '(', '1', ',', '2', ')', '++', '+', 'ololo', '.', 'x', '.', 'y', '[', '1', ']']\n",
      "['(', 'a', '+', 'b', ')', '=', 'HelloClass', '(', '1', ',', '2', ')', '++', '+', 'ololo', '.', 'x', '.', 'y', '[', '1', ']']\n",
      "['new', 'Names', '(', '[', \"'UK'\", ',', \"'Italy'\", ',', \"'Germany'\", ',', \"'France'\", ']', ')']\n"
     ]
    }
   ],
   "source": [
    "print(memberExpression.parseString('new HelloClass(1, 2)'))\n",
    "print(memberExpression.parseString('HelloClass(1, 2)'))\n",
    "print(memberExpression.parseString('HelloClass(1, 2)'))\n",
    "print(leftHandSideExpression.parseString('HelloClass(1, 2)'))\n",
    "print(conditionalExpression.parseString('HelloClass(1, 2)'))\n",
    "print(conditionalExpression.parseString('HelloClass(1, 2)++ + ololo.x.y[1]'))\n",
    "print(assignmentExpression.parseString('(a + b) = HelloClass(1, 2)++ + ololo.x.y[1];'))\n",
    "print(assignmentExpression.parseString('new Names([\\'UK\\', \\'Italy\\', \\'Germany\\', \\'France\\'])'))"
   ]
  },
  {
   "cell_type": "markdown",
   "metadata": {},
   "source": [
    "## Variable declarations"
   ]
  },
  {
   "cell_type": "code",
   "execution_count": 34,
   "metadata": {
    "collapsed": false
   },
   "outputs": [
    {
     "name": "stdout",
     "output_type": "stream",
     "text": [
      "simple ['var', 'a', '=', '10']\n",
      "With destruct ['var', '{', 'a', ',', 'b', '}', '=', '{', 'a', ':', '10', ',', 'b', ':', '20', '}']\n",
      "With destruct and key ['var', '{', 'a', ',', '[', 'x', ']', '}', '=', '{', 'a', ':', '10', ',', 'b', ':', '20', '}']\n"
     ]
    }
   ],
   "source": [
    "print('simple', variableStatement.parseString('var a = 10'))\n",
    "print('With destruct', variableStatement.parseString('var {a, b} = {a: 10, b: 20}'))\n",
    "print('With destruct and key', variableStatement.parseString('var {a, [x]} = {a: 10, b: 20}'))\n",
    "print('const', statement.parseString('const a = 10'))\n",
    "print('let', statement.parseString('let {a = , b = 20} = {}'))"
   ]
  },
  {
   "cell_type": "markdown",
   "metadata": {},
   "source": [
    "# More complex examples"
   ]
  },
  {
   "cell_type": "code",
   "execution_count": 32,
   "metadata": {
    "collapsed": false
   },
   "outputs": [
    {
     "data": {
      "text/plain": [
       "(['function', 'helloWorld', '(', 'c', ',', 'e', ')', '{', 'const', 'a', '=', 'c', '+', 'e', '}'], {})"
      ]
     },
     "execution_count": 32,
     "metadata": {},
     "output_type": "execute_result"
    }
   ],
   "source": [
    "func = '''\n",
    "function helloWorld (c, e) {\n",
    "    const a = c + e\n",
    "}\n",
    "'''\n",
    "functionDeclaration.parseString(func)"
   ]
  },
  {
   "cell_type": "code",
   "execution_count": null,
   "metadata": {
    "collapsed": true
   },
   "outputs": [],
   "source": []
  }
 ],
 "metadata": {
  "kernelspec": {
   "display_name": "Python 3",
   "language": "python",
   "name": "python3"
  },
  "language_info": {
   "codemirror_mode": {
    "name": "ipython",
    "version": 3
   },
   "file_extension": ".py",
   "mimetype": "text/x-python",
   "name": "python",
   "nbconvert_exporter": "python",
   "pygments_lexer": "ipython3",
   "version": "3.6.0"
  }
 },
 "nbformat": 4,
 "nbformat_minor": 2
}
